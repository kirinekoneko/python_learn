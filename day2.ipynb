{
 "cells": [
  {
   "cell_type": "code",
   "execution_count": null,
   "id": "78820cb1-c51c-4e7a-96f7-5139d2109b06",
   "metadata": {},
   "outputs": [],
   "source": [
    "import numpy as np\n",
    "import matplotlib.pyplot as plt"
   ]
  },
  {
   "cell_type": "code",
   "execution_count": null,
   "id": "5a68fe16-82b0-4f56-8e1b-10152fd580be",
   "metadata": {},
   "outputs": [],
   "source": [
    "def sigmod(x):\n",
    "    y = 1 / (1 + np.exp(-x))\n",
    "    return y"
   ]
  },
  {
   "cell_type": "code",
   "execution_count": null,
   "id": "1b0cd587-73ba-4555-9121-b1f6470e1c10",
   "metadata": {},
   "outputs": [],
   "source": [
    "x = np.linspace(-5, 5, 100)\n",
    "y = sigmod(x)\n",
    "\n",
    "plt.plot(x, y)"
   ]
  },
  {
   "cell_type": "code",
   "execution_count": null,
   "id": "99445684-3ecf-4a79-be36-da9554e19ba6",
   "metadata": {},
   "outputs": [],
   "source": [
    "sample_size = 100\n",
    "\n",
    "# 100 * 2 numbers \n",
    "x = np.random.uniform(0, 10, (sample_size, 2))\n",
    "\n",
    "x1 = x[:, 0]\n",
    "x2 = x[:, 1]\n",
    "\n",
    "plt.scatter(x1, x2)"
   ]
  },
  {
   "cell_type": "code",
   "execution_count": null,
   "id": "e370f7f5-c01d-4f24-91ca-2b90c440bd42",
   "metadata": {},
   "outputs": [],
   "source": [
    "y = np.zeros(sample_size)\n",
    "\n",
    "# noise, 增加分类的不确定性\n",
    "z = np.random.normal(0, 2, sample_size)\n",
    "\n",
    "for i in range(sample_size):\n",
    "    if x2[i] > x1[i] + z[i]:\n",
    "        y[i] = 1\n",
    "    else:\n",
    "        y[i] = 0\n",
    "        \n",
    "y1_index = (y == 1)\n",
    "y0_index = (y == 0)\n",
    "\n",
    "plt.scatter(x1[y0_index], x2[y0_index])\n",
    "plt.scatter(x1[y1_index], x2[y1_index])"
   ]
  },
  {
   "cell_type": "code",
   "execution_count": null,
   "id": "aaf64cd2-a47e-4c4c-95a8-7cdc65728119",
   "metadata": {},
   "outputs": [],
   "source": [
    "from sklearn.linear_model import LogisticRegression\n",
    "\n",
    "model = LogisticRegression()\n",
    "\n",
    "model.fit(x, y)\n",
    "\n",
    "print(model.intercept_)\n",
    "print(model.coef_)\n",
    "print(model.score(x, y))\n",
    "\n",
    "X_test = np.array([\n",
    "    [10, 0],\n",
    "    [0, 10],\n",
    "    [5, 2]\n",
    "])\n",
    "\n",
    "y_test_pred = model.predict(X_test)\n",
    "y_test_pred"
   ]
  },
  {
   "cell_type": "code",
   "execution_count": null,
   "id": "241ad1a4-fd23-4862-bd00-6f3715bef943",
   "metadata": {},
   "outputs": [],
   "source": [
    "xt1 = np.arange(-0.1, 10.1, 0.1)\n",
    "xt2 = np.arange(-0.1, 10.1, 0.1)\n",
    "\n",
    "xxt1, xxt2 = np.meshgrid(xt1, xt2)\n",
    "\n",
    "plt.scatter(xxt1.reshape(-1), xxt2.reshape(-1))"
   ]
  },
  {
   "cell_type": "code",
   "execution_count": null,
   "id": "b0d70107-3424-4ffd-9ab6-748a42e9ccf1",
   "metadata": {},
   "outputs": [],
   "source": [
    "xt = np.hstack([xxt1.reshape(-1, 1), xxt2.reshape(10404, 1)])\n",
    "xt"
   ]
  },
  {
   "cell_type": "code",
   "execution_count": null,
   "id": "9107dfc1-4fd9-4bb4-9fc7-d0e49052888e",
   "metadata": {},
   "outputs": [],
   "source": [
    "yt = model.predict(xt)"
   ]
  },
  {
   "cell_type": "code",
   "execution_count": null,
   "id": "3d9557f6-e7bb-463b-8946-e613cc42cfac",
   "metadata": {},
   "outputs": [],
   "source": [
    "plt.scatter(xt[yt == 1,0], xt[yt == 1, 1])\n",
    "plt.scatter(xt[yt == 0,0], xt[yt == 0, 1])"
   ]
  },
  {
   "cell_type": "code",
   "execution_count": 4,
   "id": "7061afc1-8261-4f12-93ff-4fc35bf11a91",
   "metadata": {},
   "outputs": [
    {
     "data": {
      "text/plain": [
       "array([2, 0])"
      ]
     },
     "execution_count": 4,
     "metadata": {},
     "output_type": "execute_result"
    }
   ],
   "source": [
    "from sklearn.datasets import load_iris\n",
    "from sklearn.linear_model import LogisticRegression\n",
    "import numpy as np\n",
    "\n",
    "iris = load_iris()\n",
    "X = iris.data\n",
    "y = iris.target\n",
    "\n",
    "model = LogisticRegression(max_iter=1000)\n",
    "model.fit(X, y)\n",
    "z = np.array([\n",
    "    [5.6, 3, 6, 2],\n",
    "    [4.6, 3.1, 2, 0.5]\n",
    "])\n",
    "\n",
    "y_prodict = model.predict(z)\n",
    "\n",
    "y_prodict"
   ]
  },
  {
   "cell_type": "code",
   "execution_count": null,
   "id": "6cd24b05-0915-41d8-82eb-585cb59959a3",
   "metadata": {},
   "outputs": [],
   "source": []
  }
 ],
 "metadata": {
  "kernelspec": {
   "display_name": "Python 3",
   "language": "python",
   "name": "python3"
  },
  "language_info": {
   "codemirror_mode": {
    "name": "ipython",
    "version": 3
   },
   "file_extension": ".py",
   "mimetype": "text/x-python",
   "name": "python",
   "nbconvert_exporter": "python",
   "pygments_lexer": "ipython3",
   "version": "3.8.8"
  }
 },
 "nbformat": 4,
 "nbformat_minor": 5
}
