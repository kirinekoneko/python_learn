{
 "cells": [
  {
   "cell_type": "code",
   "execution_count": 1,
   "id": "bbcd65e4-63d9-4f02-a15a-64ced55bb6a6",
   "metadata": {},
   "outputs": [],
   "source": [
    "import numpy as np\n",
    "import matplotlib.pyplot as plt\n",
    "\n",
    "n = 5\n",
    "mat = np.zeros((n, n))\n",
    "mat[0, :] = np.arange(1, n+1)\n",
    "for i in range(1, n):\n",
    "    mat[i, :] = np.roll(np.arange(1, n + 1), -i)\n"
   ]
  },
  {
   "cell_type": "code",
   "execution_count": 2,
   "id": "99f94fbc-f20b-4574-acb0-a3b2bf669693",
   "metadata": {},
   "outputs": [
    {
     "data": {
      "text/plain": [
       "array([[1., 2., 3., 4., 5.],\n",
       "       [2., 3., 4., 5., 1.],\n",
       "       [3., 4., 5., 1., 2.],\n",
       "       [4., 5., 1., 2., 3.],\n",
       "       [5., 1., 2., 3., 4.]])"
      ]
     },
     "execution_count": 2,
     "metadata": {},
     "output_type": "execute_result"
    }
   ],
   "source": [
    "n = 5\n",
    "mat = np.zeros((n, n))\n",
    "mat[0, :] = np.arange(1, n+1)\n",
    "for i in range(1, n):\n",
    "    mat[i, n - 1] = mat[i - 1, 0]\n",
    "    for j in range(n-1):\n",
    "        mat[i, j] = mat[i - 1, j + 1]\n",
    "\n",
    "mat"
   ]
  },
  {
   "cell_type": "code",
   "execution_count": 3,
   "id": "06ec7eed-64a4-4f6c-af0e-284dd6712795",
   "metadata": {},
   "outputs": [
    {
     "data": {
      "text/plain": [
       "array([[1., 2., 3., 4., 5.],\n",
       "       [2., 3., 4., 5., 1.],\n",
       "       [3., 4., 5., 1., 2.],\n",
       "       [4., 5., 1., 2., 3.],\n",
       "       [5., 1., 2., 3., 4.]])"
      ]
     },
     "execution_count": 3,
     "metadata": {},
     "output_type": "execute_result"
    }
   ],
   "source": [
    "for i in range(n):\n",
    "    for j in range(n):\n",
    "        mat[i, j] = (i + j) % n + 1\n",
    "        \n",
    "mat"
   ]
  },
  {
   "cell_type": "code",
   "execution_count": 4,
   "id": "8a873184-24aa-42e3-93c3-cfe8bd78870d",
   "metadata": {},
   "outputs": [
    {
     "data": {
      "text/plain": [
       "720"
      ]
     },
     "execution_count": 4,
     "metadata": {},
     "output_type": "execute_result"
    }
   ],
   "source": [
    "n = 6\n",
    "\n",
    "res = 1\n",
    "for i in range(1, n + 1):\n",
    "    res = res * i\n",
    "    \n",
    "res"
   ]
  },
  {
   "cell_type": "code",
   "execution_count": 7,
   "id": "de54e530-2f01-4e4e-a0dc-5f485c6512d2",
   "metadata": {},
   "outputs": [
    {
     "data": {
      "text/plain": [
       "[<matplotlib.lines.Line2D at 0x7f8478c03a00>]"
      ]
     },
     "execution_count": 7,
     "metadata": {},
     "output_type": "execute_result"
    },
    {
     "data": {
      "image/png": "[encoded data removed]",
      "text/plain": [
       "<Figure size 432x288 with 1 Axes>"
      ]
     },
     "metadata": {
      "needs_background": "light"
     },
     "output_type": "display_data"
    }
   ],
   "source": [
    "def f(x):\n",
    "    return x ** 4 - x ** 2\n",
    "\n",
    "from scipy.optimize import minimize\n",
    "\n",
    "a = minimize(f, x0=-2).x\n",
    "b = minimize(f, x0=-0.5).x\n",
    "# 思考为什么0点没有找到最小值\n",
    "c = minimize(f, x0=0).x\n",
    "d = minimize(f, x0=1).x\n",
    "\n",
    "\n",
    "x = np.linspace(-3, 3)\n",
    "plt.plot(x, f(x))"
   ]
  }
 ],
 "metadata": {
  "kernelspec": {
   "display_name": "Python 3.8.8 64-bit ('base': conda)",
   "language": "python",
   "name": "python388jvsc74a57bd0937b05516a027b9acdc9305db1f3fbf1d01a8741477bf4b792a94e032fa8ca2c"
  },
  "language_info": {
   "codemirror_mode": {
    "name": "ipython",
    "version": 3
   },
   "file_extension": ".py",
   "mimetype": "text/x-python",
   "name": "python",
   "nbconvert_exporter": "python",
   "pygments_lexer": "ipython3",
   "version": "3.8.8"
  }
 },
 "nbformat": 4,
 "nbformat_minor": 5
}
